{
  "nbformat": 4,
  "nbformat_minor": 0,
  "metadata": {
    "colab": {
      "provenance": []
    },
    "kernelspec": {
      "name": "python3",
      "display_name": "Python 3"
    },
    "language_info": {
      "name": "python"
    }
  },
  "cells": [
    {
      "cell_type": "code",
      "execution_count": 1,
      "metadata": {
        "colab": {
          "base_uri": "https://localhost:8080/"
        },
        "id": "DDr5GyvDpKkC",
        "outputId": "372f5b44-c4df-4b24-86fd-2d7e83a44f99"
      },
      "outputs": [
        {
          "output_type": "stream",
          "name": "stdout",
          "text": [
            "determinant:\n",
            " -2.0000000000000004\n"
          ]
        }
      ],
      "source": [
        "import numpy as np\n",
        "\n",
        "# Membuat matriks 2x2\n",
        "M = np.array([[1, 2], [3, 4]])\n",
        "\n",
        "# Menghitung determinan matriks\n",
        "determinant = np.linalg.det(M)\n",
        "\n",
        "print('determinant:\\n', determinant)"
      ]
    },
    {
      "cell_type": "code",
      "source": [
        "M = np.array([[10, -22], [3, 45]])\n",
        "\n",
        "# Menghitung invers matriks\n",
        "inverse_of_M = np.linalg.inv(M)\n",
        "\n",
        "print('inverse_of_M:\\n', inverse_of_M)"
      ],
      "metadata": {
        "colab": {
          "base_uri": "https://localhost:8080/"
        },
        "id": "XjKkkUwEpVOc",
        "outputId": "bcbf8dcf-be1f-42de-ab2e-0cd92880e87d"
      },
      "execution_count": 2,
      "outputs": [
        {
          "output_type": "stream",
          "name": "stdout",
          "text": [
            "inverse_of_M:\n",
            " [[ 0.0872093   0.04263566]\n",
            " [-0.00581395  0.01937984]]\n"
          ]
        }
      ]
    },
    {
      "cell_type": "code",
      "source": [
        "from numpy.linalg import \\\n",
        "              cond\n",
        "A = np.array([[1,10**-10],\n",
        "              [10**-10,1]])\n",
        "print('Condition number:\\n', cond(A))"
      ],
      "metadata": {
        "colab": {
          "base_uri": "https://localhost:8080/"
        },
        "id": "u7p5lHFKpZuj",
        "outputId": "3f136d97-925e-4056-f74d-3092c6b8cf81"
      },
      "execution_count": 3,
      "outputs": [
        {
          "output_type": "stream",
          "name": "stdout",
          "text": [
            "Condition number:\n",
            " 1.0000000002\n"
          ]
        }
      ]
    },
    {
      "cell_type": "code",
      "source": [
        "from numpy.linalg import \\\n",
        "              matrix_rank\n",
        "A = np.array([[1,2],\n",
        "              [3,4]])\n",
        "print('Rank:\\n', matrix_rank(A))\n",
        "b = np.array([[5], [6]])\n",
        "A_b = np.concatenate((A, b), axis = 1)\n",
        "print('Augmented matrix:\\n', A_b)"
      ],
      "metadata": {
        "colab": {
          "base_uri": "https://localhost:8080/"
        },
        "id": "wQusLIPUpdlF",
        "outputId": "8cd42152-315d-4563-b70f-691c24d96752"
      },
      "execution_count": 4,
      "outputs": [
        {
          "output_type": "stream",
          "name": "stdout",
          "text": [
            "Rank:\n",
            " 2\n",
            "Augmented matrix:\n",
            " [[1 2 5]\n",
            " [3 4 6]]\n"
          ]
        }
      ]
    },
    {
      "cell_type": "code",
      "source": [
        "A = np.array([[1, 2, 3],\n",
        "                  [4, 5, 6],\n",
        "                  [7, 8, 9]])\n",
        "\n",
        "# Hitung peringkat matriks\n",
        "rank = np.linalg.matrix_rank(A)\n",
        "\n",
        "# Hitung dimensi ruang nol\n",
        "num_columns = A.shape[1]\n",
        "nullity = num_columns - rank\n",
        "\n",
        "# Cetak hasil\n",
        "print(\"Matriks:\")\n",
        "print(A)\n",
        "print(\"Peringkat Matriks:\", rank)\n",
        "print(\"Dimensi Ruang Nol:\", nullity)"
      ],
      "metadata": {
        "colab": {
          "base_uri": "https://localhost:8080/"
        },
        "id": "bJjBb-x6phET",
        "outputId": "8b68a5b6-2ea3-47b0-8731-7035b15cc02e"
      },
      "execution_count": 5,
      "outputs": [
        {
          "output_type": "stream",
          "name": "stdout",
          "text": [
            "Matriks:\n",
            "[[1 2 3]\n",
            " [4 5 6]\n",
            " [7 8 9]]\n",
            "Peringkat Matriks: 2\n",
            "Dimensi Ruang Nol: 1\n"
          ]
        }
      ]
    }
  ]
}